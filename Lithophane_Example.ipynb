{
 "cells": [
  {
   "cell_type": "markdown",
   "metadata": {
    "colab_type": "text",
    "id": "6P86_BCXuoQL"
   },
   "source": [
    "# Lithophane Example \n",
    "written by Dirk Colbry\n",
    "\n",
    "Simple Example without all of the explaination. For a more detailed description see [Lithophane Tutorial](Lithophane_Tutorial.ipynb)"
   ]
  },
  {
   "cell_type": "code",
   "execution_count": null,
   "metadata": {
    "colab": {},
    "colab_type": "code",
    "id": "JkSl5WYzuoQc"
   },
   "outputs": [],
   "source": [
    "import lithophane as li"
   ]
  },
  {
   "cell_type": "code",
   "execution_count": null,
   "metadata": {
    "colab": {
     "base_uri": "https://localhost:8080/",
     "height": 337
    },
    "colab_type": "code",
    "id": "CDrw-HPPuoQh",
    "outputId": "9a3abf2a-ad02-4ec4-aa43-0ddf219a14f6",
    "scrolled": true
   },
   "outputs": [],
   "source": [
    "imagefile = './AE8A0985.jpg'\n",
    "width = 102 #Width in mm\n",
    "x,y,z = li.jpg2stl(imagefile, width=width)\n"
   ]
  },
  {
   "cell_type": "code",
   "execution_count": null,
   "metadata": {},
   "outputs": [],
   "source": [
    "li.showstl(x,y,z)"
   ]
  },
  {
   "cell_type": "code",
   "execution_count": null,
   "metadata": {
    "colab": {},
    "colab_type": "code",
    "id": "Uyt5BBu3uoQl"
   },
   "outputs": [],
   "source": [
    "model = li.makemesh(x,y,z);\n",
    "filename=imagefile[:-4] + '_Flat.stl'\n",
    "model.save(filename)"
   ]
  },
  {
   "cell_type": "code",
   "execution_count": null,
   "metadata": {
    "colab": {
     "base_uri": "https://localhost:8080/",
     "height": 265
    },
    "colab_type": "code",
    "id": "BHu6kTp_31Gk",
    "outputId": "971e00e9-ae35-4e10-87c3-cd743894021a"
   },
   "outputs": [],
   "source": [
    "cx,cy,cz = li.makeCylinder(x,y,z)\n",
    "li.showstl(cx,cy,cz)"
   ]
  },
  {
   "cell_type": "code",
   "execution_count": null,
   "metadata": {
    "colab": {},
    "colab_type": "code",
    "id": "gPqRf12wuoRB"
   },
   "outputs": [],
   "source": [
    "model = li.makemesh(cx,cy,cz);\n",
    "filename=imagefile[:-4] + '_Cylinder.stl'\n",
    "model.save(filename)"
   ]
  },
  {
   "cell_type": "markdown",
   "metadata": {},
   "source": [
    "&#169; Copyright 2019,  Dirk Colbry "
   ]
  }
 ],
 "metadata": {
  "colab": {
   "name": "Lithophane_making.ipynb",
   "provenance": []
  },
  "kernelspec": {
   "display_name": "Python 3",
   "language": "python",
   "name": "python3"
  },
  "language_info": {
   "codemirror_mode": {
    "name": "ipython",
    "version": 3
   },
   "file_extension": ".py",
   "mimetype": "text/x-python",
   "name": "python",
   "nbconvert_exporter": "python",
   "pygments_lexer": "ipython3",
   "version": "3.7.3"
  }
 },
 "nbformat": 4,
 "nbformat_minor": 1
}
