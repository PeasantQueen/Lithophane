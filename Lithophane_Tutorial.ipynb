{
  "nbformat": 4,
  "nbformat_minor": 0,
  "metadata": {
    "colab": {
      "name": "Lithophane_making.ipynb",
      "provenance": [],
      "include_colab_link": true
    },
    "kernelspec": {
      "display_name": "Python 3",
      "language": "python",
      "name": "python3"
    },
    "language_info": {
      "codemirror_mode": {
        "name": "ipython",
        "version": 3
      },
      "file_extension": ".py",
      "mimetype": "text/x-python",
      "name": "python",
      "nbconvert_exporter": "python",
      "pygments_lexer": "ipython3",
      "version": "3.7.3"
    }
  },
  "cells": [
    {
      "cell_type": "markdown",
      "metadata": {
        "id": "view-in-github",
        "colab_type": "text"
      },
      "source": [
        "<a href=\"https://colab.research.google.com/github/colbrydi/Lithophane/blob/master/Lithophane_Tutorial.ipynb\" target=\"_parent\"><img src=\"https://colab.research.google.com/assets/colab-badge.svg\" alt=\"Open In Colab\"/></a>"
      ]
    },
    {
      "cell_type": "markdown",
      "metadata": {
        "colab_type": "text",
        "id": "6P86_BCXuoQL"
      },
      "source": [
        "# Lithophane Library \n",
        "written by Dirk Colbry\n",
        "\n",
        "[Link to slides](https://docs.google.com/presentation/d/1s_8gcGfFDEHnqS7U-TkC4xp9T49fblb2_EWRpsd-v_I/edit#slide=id.g7d81a7112a_0_68)"
      ]
    },
    {
      "cell_type": "markdown",
      "metadata": {
        "id": "2Yy_iX0eJTrz",
        "colab_type": "text"
      },
      "source": [
        "In this notebook we will use some code that makes lithophanes out of images.  \n",
        "\n",
        "![Lithophane](https://colbrydi.github.io/images/il_570xN.688476899_eapl.jpg)"
      ]
    },
    {
      "cell_type": "markdown",
      "metadata": {
        "id": "az-9ow2bJTr3",
        "colab_type": "text"
      },
      "source": [
        "Lithophans work by changing the thickness of a material to correspond with how bright or dark a pixel is in an image. Dark pixels are thicker and light pixels are thiner.  This notebook describes steps to build a lithophane using python:\n",
        "\n",
        "* [Step 1: Installing numpy-stl](#Installing_numpy-stl)\n",
        "* [Step 2: Reading an image into python](#Reading_an_image_into_python)\n",
        "* [Step 3: Flat Lithophane](#Flat_Lithophane)\n",
        "* [Step 4: Cylinder Lithophane](#Cylinder_Lithophane)\n"
      ]
    },
    {
      "cell_type": "markdown",
      "metadata": {
        "colab_type": "text",
        "id": "sGY7NVNKuoQO"
      },
      "source": [
        "---\n",
        "\n",
        "<a name=\"Installing_numpy-stl\"></a>\n",
        "# Step 1: Installing numpy-stl\n",
        "\n",
        "First thing we need to do is install some functions that I have written to convert an image into an stl file.  I have stored these functions in a file named ```lithophane.py``` which should be in the same directory as this notebokk.   These functions also use a module called [numpy-stl](https://pypi.org/project/numpy-stl/) which can be installed using pip. \n",
        "\n",
        "\n",
        "&#9989; **<font color=red>DO THIS:</font>** Uncomment the following command (Delete the #) and run the cell using \"shift-enter\".   your own image and change the following code to display your image. Show the instructor when you get it working."
      ]
    },
    {
      "cell_type": "code",
      "metadata": {
        "colab_type": "code",
        "id": "LvrLTnh0uoQP",
        "colab": {}
      },
      "source": [
        "!pip install numpy-stl"
      ],
      "execution_count": 0,
      "outputs": []
    },
    {
      "cell_type": "code",
      "metadata": {
        "id": "Hj8awzRQJuGj",
        "colab_type": "code",
        "colab": {}
      },
      "source": [
        "import urllib\n",
        "urllib.request.urlretrieve('https://raw.githubusercontent.com/colbrydi/Lithophane/master/lithophane.py', 'lithophane.py')\n",
        "urllib.request.urlretrieve('https://insideindiana.images.worldnow.com/images/9914370_G.jpg?auto=webp&disable=upscale&height=560&fit=bounds', 'image.jpg')"
      ],
      "execution_count": 0,
      "outputs": []
    },
    {
      "cell_type": "code",
      "metadata": {
        "colab_type": "code",
        "id": "JkSl5WYzuoQc",
        "colab": {}
      },
      "source": [
        "import lithophane as li"
      ],
      "execution_count": 0,
      "outputs": []
    },
    {
      "cell_type": "markdown",
      "metadata": {
        "id": "drxP3jpAJTsP",
        "colab_type": "text"
      },
      "source": [
        "**Note** The above import may give a warning.  This can be ignored for now."
      ]
    },
    {
      "cell_type": "markdown",
      "metadata": {
        "id": "cHeESCcGJTsT",
        "colab_type": "text"
      },
      "source": [
        "---\n",
        "\n",
        "<a name=\"Reading_an_image_into_python\"></a>\n",
        "\n",
        "# Step 2: Reading image data into python\n",
        "\n",
        "There are many python libraries that can read an image.  In this example we will use a very common one called ```matplotlib```.  Run the following code by clicking on the cell and hitting \"Shift and Enter\" at the same time.\n",
        "\n",
        "&#9989; **<font color=red>DO THIS:</font>** Upload your own image and change the following code to display your image. UShow the instructor when you get it working."
      ]
    },
    {
      "cell_type": "code",
      "metadata": {
        "scrolled": true,
        "id": "H4tmwhd-JTsV",
        "colab_type": "code",
        "colab": {}
      },
      "source": [
        "%matplotlib inline\n",
        "import matplotlib.pylab as plt\n",
        "import matplotlib.image as img\n",
        "imagefile = './image.jpg'\n",
        "im = img.imread(imagefile)\n",
        "plt.imshow(im);"
      ],
      "execution_count": 0,
      "outputs": []
    },
    {
      "cell_type": "code",
      "metadata": {
        "id": "oxcGztEOJTsc",
        "colab_type": "code",
        "colab": {}
      },
      "source": [
        "from IPython.display import YouTubeVideo\n",
        "YouTubeVideo(\"15aqFQQVBWU\",width=640,height=360)"
      ],
      "execution_count": 0,
      "outputs": []
    },
    {
      "cell_type": "code",
      "metadata": {
        "id": "whfvB4mxJTsj",
        "colab_type": "code",
        "colab": {}
      },
      "source": [
        "%matplotlib inline\n",
        "import matplotlib.pylab as plt\n",
        "from ipywidgets import interact, fixed\n",
        "import numpy as np\n",
        "\n",
        "def showcolor(red,green,blue):\n",
        "    plt.scatter(1,1, color=(red/255,green/255,blue/255), s=10000 );\n",
        "    plt.axis('off');\n",
        "    plt.show();\n",
        "\n",
        "interact(showcolor, red=(0,255), green=(0,255), blue=(0,255));"
      ],
      "execution_count": 0,
      "outputs": []
    },
    {
      "cell_type": "markdown",
      "metadata": {
        "id": "lvVHcT_TJTso",
        "colab_type": "text"
      },
      "source": [
        "We use the following fomula to convert the colors to a grayscale value.  An average would work but these look more \"realistic\":\n",
        "\n",
        "$$gray = 0.2989r + 0.5870g + 0.1140b$$\n",
        "\n",
        "<img src=\"https://cezannec.github.io/assets/cnn_intro/grayscale_image.png\" width=\"60%\">"
      ]
    },
    {
      "cell_type": "code",
      "metadata": {
        "id": "g_heFfdnJTsp",
        "colab_type": "code",
        "colab": {}
      },
      "source": [
        "gray = li.rgb2gray(im)\n",
        "plt.imshow(gray, cmap='gray');"
      ],
      "execution_count": 0,
      "outputs": []
    },
    {
      "cell_type": "markdown",
      "metadata": {
        "colab_type": "text",
        "id": "Aj4Lv475uoQf"
      },
      "source": [
        "---\n",
        "\n",
        "<a name=\"Flat_Lithophane\"></a>\n",
        "\n",
        "# Step 3: Flat Lithophane\n",
        "\n",
        "First we will start by creating a \"point cloud\" of three matrixes. The following function takes in a python image object (the one we created above is called ```im```) and returns the point cloud scaled to a width in millimeters.  The aspect ratio of the image will be maintained.  "
      ]
    },
    {
      "cell_type": "markdown",
      "metadata": {
        "id": "ChCy3HHoJTsx",
        "colab_type": "text"
      },
      "source": [
        "$$z = h\\left(1 - \\frac{p}{255}\\right) + d$$\n",
        "\n",
        "$$\n",
        "\\begin{align}\n",
        "z &- \\text{depth value for each pixel} \\\\\n",
        "h &- \\text{hight of the lithophan (thickness)} \\\\\n",
        "p &- \\text{pixel value (0-255)} \\\\\n",
        "d &- \\text{default depth}\n",
        "\\end{align}\n",
        "$$"
      ]
    },
    {
      "cell_type": "code",
      "metadata": {
        "colab_type": "code",
        "id": "CDrw-HPPuoQh",
        "scrolled": false,
        "colab": {}
      },
      "source": [
        "width = 102 #Width in mm\n",
        "x,y,z = li.jpg2stl(gray, width=width, depth=3, show=False)"
      ],
      "execution_count": 0,
      "outputs": []
    },
    {
      "cell_type": "code",
      "metadata": {
        "id": "D1Y-Og3FJTs4",
        "colab_type": "code",
        "colab": {}
      },
      "source": [
        "plt.imshow(z);\n",
        "plt.colorbar();"
      ],
      "execution_count": 0,
      "outputs": []
    },
    {
      "cell_type": "markdown",
      "metadata": {
        "id": "ZsKVjLO5JTs-",
        "colab_type": "text"
      },
      "source": [
        "The following takes our 3D points and creates a mesh model and saves the model as an STL file. A model is just a list of points (x,y,z) and a list of triangles which are just lists of points."
      ]
    },
    {
      "cell_type": "code",
      "metadata": {
        "colab_type": "code",
        "id": "Uyt5BBu3uoQl",
        "colab": {}
      },
      "source": [
        "model = li.makemesh(x,y,z);\n",
        "filename=imagefile[:-4] + '_Flat.stl'\n",
        "model.save(filename)"
      ],
      "execution_count": 0,
      "outputs": []
    },
    {
      "cell_type": "markdown",
      "metadata": {
        "id": "6tFvglAQJTtG",
        "colab_type": "text"
      },
      "source": [
        "We can use the following function to visualize the stl file (note the z axis is _**NOT**_ to scale:"
      ]
    },
    {
      "cell_type": "code",
      "metadata": {
        "colab_type": "code",
        "id": "e9EW-xYpuoQn",
        "scrolled": true,
        "colab": {}
      },
      "source": [
        "li.showstl(x,y,z)"
      ],
      "execution_count": 0,
      "outputs": []
    },
    {
      "cell_type": "markdown",
      "metadata": {
        "colab_type": "text",
        "id": "Nfe2WznYuoQr"
      },
      "source": [
        "---\n",
        "\n",
        "<a name=\"Cylinder_Lithophane\"></a>\n",
        "\n",
        "# Step 4: Cylinder Lithophane\n",
        "\n",
        "Since we understand math, there is nothing that requires us to make lithophanes flat.  Consider the following example:"
      ]
    },
    {
      "cell_type": "code",
      "metadata": {
        "scrolled": true,
        "id": "lmnNgTIrJTtN",
        "colab_type": "code",
        "colab": {}
      },
      "source": [
        "from IPython.display import YouTubeVideo\n",
        "YouTubeVideo(\"4I3ItcZOAjM\",height=320, cc_load_policy=True)"
      ],
      "execution_count": 0,
      "outputs": []
    },
    {
      "cell_type": "markdown",
      "metadata": {
        "id": "RWh_Q5iRJTtV",
        "colab_type": "text"
      },
      "source": [
        "To make lithophans cylinderical we just need to modify the x,y and z values.  The following code wraps x and z axis around the y axis and maintains the pixel depth described above.\n",
        "\n"
      ]
    },
    {
      "cell_type": "code",
      "metadata": {
        "colab_type": "code",
        "id": "BHu6kTp_31Gk",
        "colab": {}
      },
      "source": [
        "cx,cy,cz = li.makeCylinder(x,y,z)\n",
        "li.showstl(cx,cy,cz)"
      ],
      "execution_count": 0,
      "outputs": []
    },
    {
      "cell_type": "markdown",
      "metadata": {
        "id": "PCQW6QFSJTta",
        "colab_type": "text"
      },
      "source": [
        "We can save the new file using the same ```makemesh``` function from above."
      ]
    },
    {
      "cell_type": "code",
      "metadata": {
        "colab_type": "code",
        "id": "gPqRf12wuoRB",
        "colab": {}
      },
      "source": [
        "model = li.makemesh(cx,cy,cz);\n",
        "filename=imagefile[:-4] + '_Cylinder.stl'\n",
        "model.save(filename)"
      ],
      "execution_count": 0,
      "outputs": []
    },
    {
      "cell_type": "markdown",
      "metadata": {
        "id": "C5NQ54koJTtg",
        "colab_type": "text"
      },
      "source": [
        "Here is a timelaps of a printed cylindrical stl file."
      ]
    },
    {
      "cell_type": "code",
      "metadata": {
        "id": "EfRMDRjVJTti",
        "colab_type": "code",
        "colab": {}
      },
      "source": [
        "from IPython.display import YouTubeVideo\n",
        "YouTubeVideo(\"-h8pF6psdp4\",height=320, cc_load_policy=True)"
      ],
      "execution_count": 0,
      "outputs": []
    },
    {
      "cell_type": "markdown",
      "metadata": {
        "id": "CZYh1-wRJTtm",
        "colab_type": "text"
      },
      "source": [
        "&#169; Copyright 2019,  Dirk Colbry "
      ]
    }
  ]
}