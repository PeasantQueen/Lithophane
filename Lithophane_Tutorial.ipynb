{
 "cells": [
  {
   "cell_type": "markdown",
   "metadata": {
    "colab_type": "text",
    "id": "view-in-github"
   },
   "source": [
    "<a href=\"https://colab.research.google.com/github/colbrydi/Lithophane/blob/master/Lithophane_Tutorial.ipynb\" target=\"_parent\"><img src=\"https://colab.research.google.com/assets/colab-badge.svg\" alt=\"Open In Colab\"/></a>"
   ]
  },
  {
   "cell_type": "markdown",
   "metadata": {
    "colab_type": "text",
    "id": "6P86_BCXuoQL"
   },
   "source": [
    "# Lithophane Library \n",
    "written by Dirk Colbry\n",
    "\n",
    "[Link to slides](https://docs.google.com/presentation/d/1s_8gcGfFDEHnqS7U-TkC4xp9T49fblb2_EWRpsd-v_I/edit#slide=id.g7d81a7112a_0_68)"
   ]
  },
  {
   "cell_type": "markdown",
   "metadata": {
    "colab_type": "text",
    "id": "2Yy_iX0eJTrz"
   },
   "source": [
    "In this notebook we will use some code that makes lithophanes out of images.  \n",
    "\n",
    "![Lithophane](https://colbrydi.github.io/images/il_570xN.688476899_eapl.jpg)"
   ]
  },
  {
   "cell_type": "markdown",
   "metadata": {
    "colab_type": "text",
    "id": "az-9ow2bJTr3"
   },
   "source": [
    "Lithophans work by changing the thickness of a material to correspond with how bright or dark a pixel is in an image. Dark pixels are thicker and light pixels are thiner.  This notebook describes steps to build a lithophane using python:\n",
    "\n",
    "* [Step 1: Installing numpy-stl](#Installing_numpy-stl)\n",
    "* [Step 2: Reading an image into python](#Reading_an_image_into_python)\n",
    "* [Step 3: Flat Lithophane](#Flat_Lithophane)\n",
    "* [Step 4: Cylinder Lithophane](#Cylinder_Lithophane)\n"
   ]
  },
  {
   "cell_type": "markdown",
   "metadata": {
    "colab_type": "text",
    "id": "sGY7NVNKuoQO"
   },
   "source": [
    "---\n",
    "\n",
    "<a name=\"Installing_numpy-stl\"></a>\n",
    "# Step 1: Installing numpy-stl\n",
    "\n",
    "First thing we need to do is install some functions that I have written to convert an image into an stl file.  I have stored these functions in a file named ```lithophane.py``` which should be in the same directory as this notebokk.   These functions also use a module called [numpy-stl](https://pypi.org/project/numpy-stl/) which can be installed using pip. \n",
    "\n",
    "\n",
    "&#9989; **<font color=red>DO THIS:</font>** Uncomment the following command (Delete the #) and run the cell using \"shift-enter\".   your own image and change the following code to display your image. Show the instructor when you get it working."
   ]
  },
  {
   "cell_type": "code",
   "execution_count": null,
   "metadata": {
    "colab": {
     "base_uri": "https://localhost:8080/",
     "height": 107
    },
    "colab_type": "code",
    "id": "LvrLTnh0uoQP",
    "outputId": "aa757747-4639-419b-a53c-7e1952d4cebf"
   },
   "outputs": [],
   "source": [
    "!pip install numpy-stl"
   ]
  },
  {
   "cell_type": "code",
   "execution_count": null,
   "metadata": {
    "colab": {
     "base_uri": "https://localhost:8080/",
     "height": 34
    },
    "colab_type": "code",
    "id": "Hj8awzRQJuGj",
    "outputId": "0dda97ef-9bb8-499a-8f43-227df4f453c8"
   },
   "outputs": [],
   "source": [
    "import urllib\n",
    "imageurl = 'https://insideindiana.images.worldnow.com/images/9914370_G.jpg?auto=webp&disable=upscale&height=560&fit=bounds'\n",
    "urllib.request.urlretrieve('https://raw.githubusercontent.com/colbrydi/Lithophane/master/lithophane.py', 'lithophane.py')\n",
    "urllib.request.urlretrieve(imageurl, 'image.jpg')"
   ]
  },
  {
   "cell_type": "code",
   "execution_count": null,
   "metadata": {
    "colab": {},
    "colab_type": "code",
    "id": "JkSl5WYzuoQc"
   },
   "outputs": [],
   "source": [
    "import lithophane as li"
   ]
  },
  {
   "cell_type": "markdown",
   "metadata": {
    "colab_type": "text",
    "id": "drxP3jpAJTsP"
   },
   "source": [
    "**Note** The above import may give a warning.  This can be ignored for now."
   ]
  },
  {
   "cell_type": "markdown",
   "metadata": {
    "colab_type": "text",
    "id": "cHeESCcGJTsT"
   },
   "source": [
    "---\n",
    "\n",
    "<a name=\"Reading_an_image_into_python\"></a>\n",
    "\n",
    "# Step 2: Reading image data into python\n",
    "\n",
    "There are many python libraries that can read an image.  In this example we will use a very common one called ```matplotlib```.  Run the following code by clicking on the cell and hitting \"Shift and Enter\" at the same time.\n",
    "\n",
    "&#9989; **<font color=red>DO THIS:</font>** Upload your own image and change the following code to display your image. UShow the instructor when you get it working."
   ]
  },
  {
   "cell_type": "code",
   "execution_count": null,
   "metadata": {
    "colab": {
     "base_uri": "https://localhost:8080/",
     "height": 243
    },
    "colab_type": "code",
    "id": "H4tmwhd-JTsV",
    "outputId": "32e67343-ed56-42df-cf43-1933ad5fbe10",
    "scrolled": true
   },
   "outputs": [],
   "source": [
    "%matplotlib inline\n",
    "import matplotlib.pylab as plt\n",
    "import matplotlib.image as img\n",
    "imagefile = './image.jpg'\n",
    "im = img.imread(imagefile)\n",
    "plt.imshow(im);"
   ]
  },
  {
   "cell_type": "code",
   "execution_count": null,
   "metadata": {
    "colab": {
     "base_uri": "https://localhost:8080/",
     "height": 400
    },
    "colab_type": "code",
    "id": "oxcGztEOJTsc",
    "outputId": "5f3ea381-9a87-4ecd-ed82-c7523e5e22b8"
   },
   "outputs": [],
   "source": [
    "from IPython.display import YouTubeVideo\n",
    "YouTubeVideo(\"15aqFQQVBWU\",width=640,height=360)"
   ]
  },
  {
   "cell_type": "code",
   "execution_count": null,
   "metadata": {
    "colab": {
     "base_uri": "https://localhost:8080/",
     "height": 344,
     "referenced_widgets": [
      "cd4b6e1a467344b6ae5dc7ddba571fc9",
      "8efd1f71679a46cfb4277e0ae164bfbd",
      "a893bf628e33473282012ae28a3eef83",
      "ff31012442dd49e29f3bfffa800b9d67",
      "c443f2dd6c044d2280be63a4b1f66ae7",
      "830dd5d93f2a4bb7abcc990c3176fc02",
      "1fadf197065b42d1ae3882b803352eb0",
      "dcb3a3ec4d3242ba8c50f59d9fbd0cb1",
      "9284b81668ce4ab487a688dae99da18b",
      "83b6c6653af2435da899cfdfe2dc0d0d",
      "f95f82e0c15149a88402c7fe1c7bdacf",
      "95f4518582a74502817657914c138973"
     ]
    },
    "colab_type": "code",
    "id": "whfvB4mxJTsj",
    "outputId": "fc922f51-79c5-4be9-d83f-a656105f45dc"
   },
   "outputs": [],
   "source": [
    "%matplotlib inline\n",
    "import matplotlib.pylab as plt\n",
    "from ipywidgets import interact, fixed\n",
    "import numpy as np\n",
    "\n",
    "def showcolor(red,green,blue):\n",
    "    plt.scatter(1,1, color=(red/255,green/255,blue/255), s=10000 );\n",
    "    plt.axis('off');\n",
    "    plt.show();\n",
    "\n",
    "interact(showcolor, red=(0,255), green=(0,255), blue=(0,255));"
   ]
  },
  {
   "cell_type": "markdown",
   "metadata": {
    "colab_type": "text",
    "id": "lvVHcT_TJTso"
   },
   "source": [
    "We use the following fomula to convert the colors to a grayscale value.  An average would work but these look more \"realistic\":\n",
    "\n",
    "$$gray = 0.2989r + 0.5870g + 0.1140b$$\n",
    "\n",
    "<img src=\"https://cezannec.github.io/assets/cnn_intro/grayscale_image.png\" width=\"60%\">"
   ]
  },
  {
   "cell_type": "code",
   "execution_count": null,
   "metadata": {
    "colab": {
     "base_uri": "https://localhost:8080/",
     "height": 265
    },
    "colab_type": "code",
    "id": "g_heFfdnJTsp",
    "outputId": "1d9075cc-2319-4426-df96-a35bc06b9281"
   },
   "outputs": [],
   "source": [
    "gray = li.rgb2gray(im)\n",
    "plt.imshow(gray, cmap='gray');\n",
    "plt. colorbar()"
   ]
  },
  {
   "cell_type": "markdown",
   "metadata": {
    "colab_type": "text",
    "id": "Aj4Lv475uoQf"
   },
   "source": [
    "---\n",
    "\n",
    "<a name=\"Flat_Lithophane\"></a>\n",
    "\n",
    "# Step 3: Generate Flat Lithophane\n",
    "\n",
    "First we will start by creating a \"point cloud\" of three matrixes. The following function takes in a python image object (the one we created above is called ```im```) and returns the point cloud scaled to a width in millimeters.  The aspect ratio of the image will be maintained.  "
   ]
  },
  {
   "cell_type": "markdown",
   "metadata": {
    "colab_type": "text",
    "id": "B9DIOIFlStQQ"
   },
   "source": [
    "$$z = h\\left(1 - \\frac{p}{255}\\right) + d$$"
   ]
  },
  {
   "cell_type": "markdown",
   "metadata": {
    "colab_type": "text",
    "id": "ChCy3HHoJTsx"
   },
   "source": [
    "\n",
    "\n",
    "$$\n",
    "\\begin{align}\n",
    "z &- \\text{depth value for each pixel} \\\\\n",
    "h &- \\text{hight of the lithophan (thickness)} \\\\\n",
    "p &- \\text{pixel value (0-255)} \\\\\n",
    "d &- \\text{default depth}\n",
    "\\end{align}\n",
    "$$"
   ]
  },
  {
   "cell_type": "code",
   "execution_count": null,
   "metadata": {
    "colab": {},
    "colab_type": "code",
    "id": "CDrw-HPPuoQh",
    "scrolled": false
   },
   "outputs": [],
   "source": [
    "#Generate x,y and z values for each pixel\n",
    "width = 102 #Width in mm\n",
    "x,y,z = li.jpg2stl(gray, width=width, h=3, d=0.6, show=False)"
   ]
  },
  {
   "cell_type": "code",
   "execution_count": null,
   "metadata": {
    "colab": {
     "base_uri": "https://localhost:8080/",
     "height": 346
    },
    "colab_type": "code",
    "id": "AaIcaNL2G_R7",
    "outputId": "e10ab904-197e-4766-dbcd-dfc44ee0310d"
   },
   "outputs": [],
   "source": [
    "plt.figure(figsize=(25,5))\n",
    "plt.subplot(1,3,1)\n",
    "plt.imshow(x)\n",
    "plt.axis('off')\n",
    "plt.title('x distances (mm)')\n",
    "plt.colorbar()\n",
    "plt.subplot(1,3,2)\n",
    "plt.imshow(y)\n",
    "plt.axis('off')\n",
    "plt.title('y distances (mm)')\n",
    "plt.colorbar()\n",
    "plt.subplot(1,3,3)\n",
    "plt.imshow(z)\n",
    "plt.axis('off');\n",
    "plt.title('z distances (mm)');\n",
    "plt.colorbar()"
   ]
  },
  {
   "cell_type": "code",
   "execution_count": null,
   "metadata": {
    "colab": {
     "base_uri": "https://localhost:8080/",
     "height": 281
    },
    "colab_type": "code",
    "id": "f3RPhrYRC6Xs",
    "outputId": "cfab1391-a352-48b4-e0d3-51e1dc02e14a"
   },
   "outputs": [],
   "source": [
    "#plot a cross section to try and visualize data\n",
    "plt.plot(x[550,0:100],z[550,0:100])\n",
    "plt.axis('equal');\n",
    "\n",
    "plt.ylabel('Lithophane Depth (z direction mm)')\n",
    "plt.title('Lithophane cross-seciton');"
   ]
  },
  {
   "cell_type": "markdown",
   "metadata": {
    "colab_type": "text",
    "id": "ZsKVjLO5JTs-"
   },
   "source": [
    "The following takes our 3D points and creates a mesh model and saves the model as an STL file. A model is just a list of points (x,y,z) and a list of triangles which are just lists of points."
   ]
  },
  {
   "cell_type": "code",
   "execution_count": null,
   "metadata": {
    "colab": {},
    "colab_type": "code",
    "id": "Uyt5BBu3uoQl"
   },
   "outputs": [],
   "source": [
    "model = li.makemesh(x,y,z);\n",
    "filename=imagefile[:-4] + '_Flat.stl'\n",
    "model.save(filename)"
   ]
  },
  {
   "cell_type": "markdown",
   "metadata": {
    "colab_type": "text",
    "id": "6tFvglAQJTtG"
   },
   "source": [
    "We can use the following function to visualize the stl file (note the z axis is _**NOT**_ to scale:"
   ]
  },
  {
   "cell_type": "code",
   "execution_count": null,
   "metadata": {
    "colab": {
     "base_uri": "https://localhost:8080/",
     "height": 248
    },
    "colab_type": "code",
    "id": "e9EW-xYpuoQn",
    "outputId": "0a0a49cf-98dc-4c91-dd6e-c66822bee8ff",
    "scrolled": true
   },
   "outputs": [],
   "source": [
    "#note z axis is not same scale as x and y axes.\n",
    "li.showstl(x,y,z)"
   ]
  },
  {
   "cell_type": "markdown",
   "metadata": {
    "colab_type": "text",
    "id": "Nfe2WznYuoQr"
   },
   "source": [
    "---\n",
    "\n",
    "<a name=\"Cylinder_Lithophane\"></a>\n",
    "\n",
    "# Step 4: Cylinder Lithophane\n",
    "\n",
    "Since we understand math, there is nothing that requires us to make lithophanes flat.  Consider the following example:"
   ]
  },
  {
   "cell_type": "code",
   "execution_count": null,
   "metadata": {
    "colab": {
     "base_uri": "https://localhost:8080/",
     "height": 340
    },
    "colab_type": "code",
    "id": "lmnNgTIrJTtN",
    "outputId": "61dbfa3d-0ce5-41ee-9602-011811f4fc70",
    "scrolled": true
   },
   "outputs": [],
   "source": [
    "from IPython.display import YouTubeVideo\n",
    "YouTubeVideo(\"4I3ItcZOAjM\",height=320, cc_load_policy=True)"
   ]
  },
  {
   "cell_type": "markdown",
   "metadata": {
    "colab_type": "text",
    "id": "RWh_Q5iRJTtV"
   },
   "source": [
    "To make lithophans cylinderical we just need to modify the x,y and z values.  The following code wraps x and z axis around the y axis and maintains the pixel depth described above.\n",
    "\n"
   ]
  },
  {
   "cell_type": "code",
   "execution_count": null,
   "metadata": {
    "colab": {
     "base_uri": "https://localhost:8080/",
     "height": 265
    },
    "colab_type": "code",
    "id": "BHu6kTp_31Gk",
    "outputId": "a27c16fb-28e0-436f-9eb3-86755f2a0cf5"
   },
   "outputs": [],
   "source": [
    "cx,cy,cz = li.makeCylinder(x,y,z)\n",
    "li.showstl(cx,cy,cz)"
   ]
  },
  {
   "cell_type": "markdown",
   "metadata": {
    "colab_type": "text",
    "id": "PCQW6QFSJTta"
   },
   "source": [
    "We can save the new file using the same ```makemesh``` function from above."
   ]
  },
  {
   "cell_type": "code",
   "execution_count": null,
   "metadata": {
    "colab": {},
    "colab_type": "code",
    "id": "gPqRf12wuoRB"
   },
   "outputs": [],
   "source": [
    "model = li.makemesh(cx,cy,cz);\n",
    "filename=imagefile[:-4] + '_Cylinder.stl'\n",
    "model.save(filename)"
   ]
  },
  {
   "cell_type": "markdown",
   "metadata": {
    "colab_type": "text",
    "id": "C5NQ54koJTtg"
   },
   "source": [
    "Here is a timelaps of a printed cylindrical stl file."
   ]
  },
  {
   "cell_type": "code",
   "execution_count": null,
   "metadata": {
    "colab": {
     "base_uri": "https://localhost:8080/",
     "height": 341
    },
    "colab_type": "code",
    "id": "EfRMDRjVJTti",
    "outputId": "0daccc11-89ed-4a37-b723-f3742a33687b"
   },
   "outputs": [],
   "source": [
    "from IPython.display import YouTubeVideo\n",
    "YouTubeVideo(\"-h8pF6psdp4\",height=320, cc_load_policy=True)"
   ]
  },
  {
   "cell_type": "markdown",
   "metadata": {
    "colab_type": "text",
    "id": "CZYh1-wRJTtm"
   },
   "source": [
    "&#169; Copyright 2019,  Dirk Colbry "
   ]
  }
 ],
 "metadata": {
  "colab": {
   "include_colab_link": true,
   "name": "Lithophane_making.ipynb",
   "provenance": []
  },
  "kernelspec": {
   "display_name": "Python 3",
   "language": "python",
   "name": "python3"
  },
  "language_info": {
   "codemirror_mode": {
    "name": "ipython",
    "version": 3
   },
   "file_extension": ".py",
   "mimetype": "text/x-python",
   "name": "python",
   "nbconvert_exporter": "python",
   "pygments_lexer": "ipython3",
   "version": "3.7.3"
  },
  "widgets": {
   "application/vnd.jupyter.widget-state+json": {
    "1fadf197065b42d1ae3882b803352eb0": {
     "model_module": "@jupyter-widgets/controls",
     "model_name": "SliderStyleModel",
     "state": {
      "_model_module": "@jupyter-widgets/controls",
      "_model_module_version": "1.5.0",
      "_model_name": "SliderStyleModel",
      "_view_count": null,
      "_view_module": "@jupyter-widgets/base",
      "_view_module_version": "1.2.0",
      "_view_name": "StyleView",
      "description_width": "",
      "handle_color": null
     }
    },
    "830dd5d93f2a4bb7abcc990c3176fc02": {
     "model_module": "@jupyter-widgets/output",
     "model_name": "OutputModel",
     "state": {
      "_dom_classes": [],
      "_model_module": "@jupyter-widgets/output",
      "_model_module_version": "1.0.0",
      "_model_name": "OutputModel",
      "_view_count": null,
      "_view_module": "@jupyter-widgets/output",
      "_view_module_version": "1.0.0",
      "_view_name": "OutputView",
      "layout": "IPY_MODEL_c9074a9fa31f416d893997ce30d90cc9",
      "msg_id": "",
      "outputs": [
       {
        "image/png": "iVBORw0KGgoAAAANSUhEUgAAAV0AAADnCAYAAAC9roUQAAAABHNCSVQICAgIfAhkiAAAAAlwSFlz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\nIqMrSYmMriQlMrqSlOh/jTl+8YJFJpAAAAAASUVORK5CYII=\n",
        "metadata": {
         "tags": []
        },
        "output_type": "display_data",
        "text/plain": "<Figure size 432x288 with 1 Axes>"
       }
      ]
     }
    },
    "83b6c6653af2435da899cfdfe2dc0d0d": {
     "model_module": "@jupyter-widgets/base",
     "model_name": "LayoutModel",
     "state": {
      "_model_module": "@jupyter-widgets/base",
      "_model_module_version": "1.2.0",
      "_model_name": "LayoutModel",
      "_view_count": null,
      "_view_module": "@jupyter-widgets/base",
      "_view_module_version": "1.2.0",
      "_view_name": "LayoutView",
      "align_content": null,
      "align_items": null,
      "align_self": null,
      "border": null,
      "bottom": null,
      "display": null,
      "flex": null,
      "flex_flow": null,
      "grid_area": null,
      "grid_auto_columns": null,
      "grid_auto_flow": null,
      "grid_auto_rows": null,
      "grid_column": null,
      "grid_gap": null,
      "grid_row": null,
      "grid_template_areas": null,
      "grid_template_columns": null,
      "grid_template_rows": null,
      "height": null,
      "justify_content": null,
      "justify_items": null,
      "left": null,
      "margin": null,
      "max_height": null,
      "max_width": null,
      "min_height": null,
      "min_width": null,
      "object_fit": null,
      "object_position": null,
      "order": null,
      "overflow": null,
      "overflow_x": null,
      "overflow_y": null,
      "padding": null,
      "right": null,
      "top": null,
      "visibility": null,
      "width": null
     }
    },
    "8efd1f71679a46cfb4277e0ae164bfbd": {
     "model_module": "@jupyter-widgets/base",
     "model_name": "LayoutModel",
     "state": {
      "_model_module": "@jupyter-widgets/base",
      "_model_module_version": "1.2.0",
      "_model_name": "LayoutModel",
      "_view_count": null,
      "_view_module": "@jupyter-widgets/base",
      "_view_module_version": "1.2.0",
      "_view_name": "LayoutView",
      "align_content": null,
      "align_items": null,
      "align_self": null,
      "border": null,
      "bottom": null,
      "display": null,
      "flex": null,
      "flex_flow": null,
      "grid_area": null,
      "grid_auto_columns": null,
      "grid_auto_flow": null,
      "grid_auto_rows": null,
      "grid_column": null,
      "grid_gap": null,
      "grid_row": null,
      "grid_template_areas": null,
      "grid_template_columns": null,
      "grid_template_rows": null,
      "height": null,
      "justify_content": null,
      "justify_items": null,
      "left": null,
      "margin": null,
      "max_height": null,
      "max_width": null,
      "min_height": null,
      "min_width": null,
      "object_fit": null,
      "object_position": null,
      "order": null,
      "overflow": null,
      "overflow_x": null,
      "overflow_y": null,
      "padding": null,
      "right": null,
      "top": null,
      "visibility": null,
      "width": null
     }
    },
    "9284b81668ce4ab487a688dae99da18b": {
     "model_module": "@jupyter-widgets/controls",
     "model_name": "SliderStyleModel",
     "state": {
      "_model_module": "@jupyter-widgets/controls",
      "_model_module_version": "1.5.0",
      "_model_name": "SliderStyleModel",
      "_view_count": null,
      "_view_module": "@jupyter-widgets/base",
      "_view_module_version": "1.2.0",
      "_view_name": "StyleView",
      "description_width": "",
      "handle_color": null
     }
    },
    "95f4518582a74502817657914c138973": {
     "model_module": "@jupyter-widgets/base",
     "model_name": "LayoutModel",
     "state": {
      "_model_module": "@jupyter-widgets/base",
      "_model_module_version": "1.2.0",
      "_model_name": "LayoutModel",
      "_view_count": null,
      "_view_module": "@jupyter-widgets/base",
      "_view_module_version": "1.2.0",
      "_view_name": "LayoutView",
      "align_content": null,
      "align_items": null,
      "align_self": null,
      "border": null,
      "bottom": null,
      "display": null,
      "flex": null,
      "flex_flow": null,
      "grid_area": null,
      "grid_auto_columns": null,
      "grid_auto_flow": null,
      "grid_auto_rows": null,
      "grid_column": null,
      "grid_gap": null,
      "grid_row": null,
      "grid_template_areas": null,
      "grid_template_columns": null,
      "grid_template_rows": null,
      "height": null,
      "justify_content": null,
      "justify_items": null,
      "left": null,
      "margin": null,
      "max_height": null,
      "max_width": null,
      "min_height": null,
      "min_width": null,
      "object_fit": null,
      "object_position": null,
      "order": null,
      "overflow": null,
      "overflow_x": null,
      "overflow_y": null,
      "padding": null,
      "right": null,
      "top": null,
      "visibility": null,
      "width": null
     }
    },
    "a893bf628e33473282012ae28a3eef83": {
     "model_module": "@jupyter-widgets/controls",
     "model_name": "IntSliderModel",
     "state": {
      "_dom_classes": [],
      "_model_module": "@jupyter-widgets/controls",
      "_model_module_version": "1.5.0",
      "_model_name": "IntSliderModel",
      "_view_count": null,
      "_view_module": "@jupyter-widgets/controls",
      "_view_module_version": "1.5.0",
      "_view_name": "IntSliderView",
      "continuous_update": true,
      "description": "red",
      "description_tooltip": null,
      "disabled": false,
      "layout": "IPY_MODEL_dcb3a3ec4d3242ba8c50f59d9fbd0cb1",
      "max": 255,
      "min": 0,
      "orientation": "horizontal",
      "readout": true,
      "readout_format": "d",
      "step": 1,
      "style": "IPY_MODEL_1fadf197065b42d1ae3882b803352eb0",
      "value": 127
     }
    },
    "c443f2dd6c044d2280be63a4b1f66ae7": {
     "model_module": "@jupyter-widgets/controls",
     "model_name": "IntSliderModel",
     "state": {
      "_dom_classes": [],
      "_model_module": "@jupyter-widgets/controls",
      "_model_module_version": "1.5.0",
      "_model_name": "IntSliderModel",
      "_view_count": null,
      "_view_module": "@jupyter-widgets/controls",
      "_view_module_version": "1.5.0",
      "_view_name": "IntSliderView",
      "continuous_update": true,
      "description": "blue",
      "description_tooltip": null,
      "disabled": false,
      "layout": "IPY_MODEL_95f4518582a74502817657914c138973",
      "max": 255,
      "min": 0,
      "orientation": "horizontal",
      "readout": true,
      "readout_format": "d",
      "step": 1,
      "style": "IPY_MODEL_f95f82e0c15149a88402c7fe1c7bdacf",
      "value": 127
     }
    },
    "cd4b6e1a467344b6ae5dc7ddba571fc9": {
     "model_module": "@jupyter-widgets/controls",
     "model_name": "VBoxModel",
     "state": {
      "_dom_classes": [
       "widget-interact"
      ],
      "_model_module": "@jupyter-widgets/controls",
      "_model_module_version": "1.5.0",
      "_model_name": "VBoxModel",
      "_view_count": null,
      "_view_module": "@jupyter-widgets/controls",
      "_view_module_version": "1.5.0",
      "_view_name": "VBoxView",
      "box_style": "",
      "children": [
       "IPY_MODEL_a893bf628e33473282012ae28a3eef83",
       "IPY_MODEL_ff31012442dd49e29f3bfffa800b9d67",
       "IPY_MODEL_c443f2dd6c044d2280be63a4b1f66ae7",
       "IPY_MODEL_830dd5d93f2a4bb7abcc990c3176fc02"
      ],
      "layout": "IPY_MODEL_8efd1f71679a46cfb4277e0ae164bfbd"
     }
    },
    "dcb3a3ec4d3242ba8c50f59d9fbd0cb1": {
     "model_module": "@jupyter-widgets/base",
     "model_name": "LayoutModel",
     "state": {
      "_model_module": "@jupyter-widgets/base",
      "_model_module_version": "1.2.0",
      "_model_name": "LayoutModel",
      "_view_count": null,
      "_view_module": "@jupyter-widgets/base",
      "_view_module_version": "1.2.0",
      "_view_name": "LayoutView",
      "align_content": null,
      "align_items": null,
      "align_self": null,
      "border": null,
      "bottom": null,
      "display": null,
      "flex": null,
      "flex_flow": null,
      "grid_area": null,
      "grid_auto_columns": null,
      "grid_auto_flow": null,
      "grid_auto_rows": null,
      "grid_column": null,
      "grid_gap": null,
      "grid_row": null,
      "grid_template_areas": null,
      "grid_template_columns": null,
      "grid_template_rows": null,
      "height": null,
      "justify_content": null,
      "justify_items": null,
      "left": null,
      "margin": null,
      "max_height": null,
      "max_width": null,
      "min_height": null,
      "min_width": null,
      "object_fit": null,
      "object_position": null,
      "order": null,
      "overflow": null,
      "overflow_x": null,
      "overflow_y": null,
      "padding": null,
      "right": null,
      "top": null,
      "visibility": null,
      "width": null
     }
    },
    "f95f82e0c15149a88402c7fe1c7bdacf": {
     "model_module": "@jupyter-widgets/controls",
     "model_name": "SliderStyleModel",
     "state": {
      "_model_module": "@jupyter-widgets/controls",
      "_model_module_version": "1.5.0",
      "_model_name": "SliderStyleModel",
      "_view_count": null,
      "_view_module": "@jupyter-widgets/base",
      "_view_module_version": "1.2.0",
      "_view_name": "StyleView",
      "description_width": "",
      "handle_color": null
     }
    },
    "ff31012442dd49e29f3bfffa800b9d67": {
     "model_module": "@jupyter-widgets/controls",
     "model_name": "IntSliderModel",
     "state": {
      "_dom_classes": [],
      "_model_module": "@jupyter-widgets/controls",
      "_model_module_version": "1.5.0",
      "_model_name": "IntSliderModel",
      "_view_count": null,
      "_view_module": "@jupyter-widgets/controls",
      "_view_module_version": "1.5.0",
      "_view_name": "IntSliderView",
      "continuous_update": true,
      "description": "green",
      "description_tooltip": null,
      "disabled": false,
      "layout": "IPY_MODEL_83b6c6653af2435da899cfdfe2dc0d0d",
      "max": 255,
      "min": 0,
      "orientation": "horizontal",
      "readout": true,
      "readout_format": "d",
      "step": 1,
      "style": "IPY_MODEL_9284b81668ce4ab487a688dae99da18b",
      "value": 127
     }
    }
   }
  }
 },
 "nbformat": 4,
 "nbformat_minor": 1
}
